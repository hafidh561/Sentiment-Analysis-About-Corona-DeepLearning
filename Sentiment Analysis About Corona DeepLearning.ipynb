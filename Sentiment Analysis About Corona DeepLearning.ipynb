{
  "nbformat": 4,
  "nbformat_minor": 2,
  "metadata": {
    "colab": {
      "name": "Salinan Submission Dicoding 0 NLP.ipynb",
      "provenance": [],
      "collapsed_sections": []
    },
    "kernelspec": {
      "name": "python3",
      "display_name": "Python 3.8.8 64-bit ('base': conda)"
    },
    "language_info": {
      "name": "python",
      "version": "3.8.8",
      "mimetype": "text/x-python",
      "codemirror_mode": {
        "name": "ipython",
        "version": 3
      },
      "pygments_lexer": "ipython3",
      "nbconvert_exporter": "python",
      "file_extension": ".py"
    },
    "interpreter": {
      "hash": "b3ba2566441a7c06988d0923437866b63cedc61552a5af99d1f4fb67d367b25f"
    }
  },
  "cells": [
    {
      "cell_type": "code",
      "execution_count": 7,
      "source": [
        "# Import All Libraries\r\n",
        "import pandas as pd\r\n",
        "import tensorflow as tf\r\n",
        "import matplotlib.pyplot as plt\r\n",
        "import nltk\r\n",
        "import re\r\n",
        "from tensorflow.keras.preprocessing.text import Tokenizer\r\n",
        "from tensorflow.keras.preprocessing.sequence import pad_sequences\r\n",
        "from sklearn.model_selection import train_test_split\r\n",
        "from nltk.corpus import stopwords"
      ],
      "outputs": [],
      "metadata": {
        "id": "GyXrZRdZSlmU"
      }
    },
    {
      "cell_type": "code",
      "execution_count": 8,
      "source": [
        "# Import Data\r\n",
        "data = pd.read_csv(\"./Corona_NLP.csv\", encoding='ISO-8859-1')\r\n",
        "data.head()"
      ],
      "outputs": [
        {
          "output_type": "execute_result",
          "data": {
            "text/plain": [
              "   UserName  ScreenName   Location     TweetAt  \\\n",
              "0      3799       48751     London  16-03-2020   \n",
              "1      3800       48752         UK  16-03-2020   \n",
              "2      3801       48753  Vagabonds  16-03-2020   \n",
              "3      3802       48754        NaN  16-03-2020   \n",
              "4      3803       48755        NaN  16-03-2020   \n",
              "\n",
              "                                       OriginalTweet           Sentiment  \n",
              "0  @MeNyrbie @Phil_Gahan @Chrisitv https://t.co/i...             Neutral  \n",
              "1  advice Talk to your neighbours family to excha...            Positive  \n",
              "2  Coronavirus Australia: Woolworths to give elde...            Positive  \n",
              "3  My food stock is not the only one which is emp...            Positive  \n",
              "4  Me, ready to go at supermarket during the #COV...  Extremely Negative  "
            ],
            "text/html": [
              "<div>\n",
              "<style scoped>\n",
              "    .dataframe tbody tr th:only-of-type {\n",
              "        vertical-align: middle;\n",
              "    }\n",
              "\n",
              "    .dataframe tbody tr th {\n",
              "        vertical-align: top;\n",
              "    }\n",
              "\n",
              "    .dataframe thead th {\n",
              "        text-align: right;\n",
              "    }\n",
              "</style>\n",
              "<table border=\"1\" class=\"dataframe\">\n",
              "  <thead>\n",
              "    <tr style=\"text-align: right;\">\n",
              "      <th></th>\n",
              "      <th>UserName</th>\n",
              "      <th>ScreenName</th>\n",
              "      <th>Location</th>\n",
              "      <th>TweetAt</th>\n",
              "      <th>OriginalTweet</th>\n",
              "      <th>Sentiment</th>\n",
              "    </tr>\n",
              "  </thead>\n",
              "  <tbody>\n",
              "    <tr>\n",
              "      <th>0</th>\n",
              "      <td>3799</td>\n",
              "      <td>48751</td>\n",
              "      <td>London</td>\n",
              "      <td>16-03-2020</td>\n",
              "      <td>@MeNyrbie @Phil_Gahan @Chrisitv https://t.co/i...</td>\n",
              "      <td>Neutral</td>\n",
              "    </tr>\n",
              "    <tr>\n",
              "      <th>1</th>\n",
              "      <td>3800</td>\n",
              "      <td>48752</td>\n",
              "      <td>UK</td>\n",
              "      <td>16-03-2020</td>\n",
              "      <td>advice Talk to your neighbours family to excha...</td>\n",
              "      <td>Positive</td>\n",
              "    </tr>\n",
              "    <tr>\n",
              "      <th>2</th>\n",
              "      <td>3801</td>\n",
              "      <td>48753</td>\n",
              "      <td>Vagabonds</td>\n",
              "      <td>16-03-2020</td>\n",
              "      <td>Coronavirus Australia: Woolworths to give elde...</td>\n",
              "      <td>Positive</td>\n",
              "    </tr>\n",
              "    <tr>\n",
              "      <th>3</th>\n",
              "      <td>3802</td>\n",
              "      <td>48754</td>\n",
              "      <td>NaN</td>\n",
              "      <td>16-03-2020</td>\n",
              "      <td>My food stock is not the only one which is emp...</td>\n",
              "      <td>Positive</td>\n",
              "    </tr>\n",
              "    <tr>\n",
              "      <th>4</th>\n",
              "      <td>3803</td>\n",
              "      <td>48755</td>\n",
              "      <td>NaN</td>\n",
              "      <td>16-03-2020</td>\n",
              "      <td>Me, ready to go at supermarket during the #COV...</td>\n",
              "      <td>Extremely Negative</td>\n",
              "    </tr>\n",
              "  </tbody>\n",
              "</table>\n",
              "</div>"
            ]
          },
          "metadata": {},
          "execution_count": 8
        }
      ],
      "metadata": {
        "id": "mnPhruMdVaHi"
      }
    },
    {
      "cell_type": "code",
      "execution_count": 9,
      "source": [
        "# Check Data Type\r\n",
        "data.info(memory_usage=False)"
      ],
      "outputs": [
        {
          "output_type": "stream",
          "name": "stdout",
          "text": [
            "<class 'pandas.core.frame.DataFrame'>\n",
            "RangeIndex: 41157 entries, 0 to 41156\n",
            "Data columns (total 6 columns):\n",
            " #   Column         Non-Null Count  Dtype \n",
            "---  ------         --------------  ----- \n",
            " 0   UserName       41157 non-null  int64 \n",
            " 1   ScreenName     41157 non-null  int64 \n",
            " 2   Location       32567 non-null  object\n",
            " 3   TweetAt        41157 non-null  object\n",
            " 4   OriginalTweet  41157 non-null  object\n",
            " 5   Sentiment      41157 non-null  object\n",
            "dtypes: int64(2), object(4)"
          ]
        }
      ],
      "metadata": {
        "colab": {
          "base_uri": "https://localhost:8080/"
        },
        "id": "VXefFqWJZjiL",
        "outputId": "acefb0aa-3cc5-44b6-ddb2-970e42a81758"
      }
    },
    {
      "cell_type": "code",
      "execution_count": 10,
      "source": [
        "# Check Data Null\r\n",
        "print(\"Data Empty:\", data.isnull().sum().sum())"
      ],
      "outputs": [
        {
          "output_type": "stream",
          "name": "stdout",
          "text": [
            "Data Empty: 8590\n"
          ]
        }
      ],
      "metadata": {}
    },
    {
      "cell_type": "code",
      "execution_count": 11,
      "source": [
        "# Drop Data Null\r\n",
        "data.dropna(inplace=True)\r\n",
        "print(\"Data Empty:\", data.isnull().sum().sum())"
      ],
      "outputs": [
        {
          "output_type": "stream",
          "name": "stdout",
          "text": [
            "Data Empty: 0\n"
          ]
        }
      ],
      "metadata": {}
    },
    {
      "cell_type": "code",
      "execution_count": 12,
      "source": [
        "# Drop column\r\n",
        "data.drop(columns=['UserName', 'ScreenName', \r\n",
        "                   'Location', 'TweetAt'], inplace=True)"
      ],
      "outputs": [],
      "metadata": {
        "id": "9lWkkzkJYk5O"
      }
    },
    {
      "cell_type": "code",
      "execution_count": 13,
      "source": [
        "# Simplify Data\r\n",
        "data['Sentiment'] = data['Sentiment'].map({\r\n",
        "    \"Neutral\": \"Neutral\",\r\n",
        "    \"Positive\": \"Positive\",\r\n",
        "    \"Negative\": \"Negative\",\r\n",
        "    \"Extremely Positive\": \"Positive\",\r\n",
        "    \"Extremely Negative\": \"Negative\"\r\n",
        "})\r\n",
        "sentiment = pd.get_dummies(data['Sentiment'])\r\n",
        "df = pd.concat([data, sentiment], axis=1)\r\n",
        "df.drop(columns='Sentiment', inplace=True)"
      ],
      "outputs": [],
      "metadata": {
        "id": "1TRluA22Y0Uv"
      }
    },
    {
      "cell_type": "code",
      "execution_count": 14,
      "source": [
        "# Data Cleaning with regex\r\n",
        "def data_cleaner(tweet):\r\n",
        "    # hapus link\r\n",
        "    tweet = re.sub(r'http\\S+', ' ', tweet)\r\n",
        "    # hapus html tags\r\n",
        "    tweet = re.sub(r'<.*?>',' ', tweet)\r\n",
        "    # hapus angka\r\n",
        "    tweet = re.sub(r'\\d+',' ', tweet)\r\n",
        "    # hapus hashtags\r\n",
        "    tweet = re.sub(r'#\\w+',' ', tweet)\r\n",
        "    # hapus tag\r\n",
        "    tweet = re.sub(r'@\\w+',' ', tweet)\r\n",
        "    # hapus kata tambahan\r\n",
        "    tweet = tweet.split()\r\n",
        "    tweet = \" \".join([word for word in tweet if not word in stop_words])\r\n",
        "    return tweet\r\n",
        "\r\n",
        "nltk.download('stopwords')\r\n",
        "stop_words = stopwords.words('english')\r\n",
        "df['OriginalTweet'] = df['OriginalTweet'].apply(lambda x: x.lower()).apply(data_cleaner)\r\n",
        "df.head()"
      ],
      "outputs": [
        {
          "output_type": "stream",
          "name": "stderr",
          "text": [
            "[nltk_data] Downloading package stopwords to C:\\Users\\Hafidh\n",
            "[nltk_data]     Soekma\\AppData\\Roaming\\nltk_data...\n",
            "[nltk_data]   Package stopwords is already up-to-date!\n"
          ]
        },
        {
          "output_type": "execute_result",
          "data": {
            "text/plain": [
              "                                       OriginalTweet  Negative  Neutral  \\\n",
              "0                                                            0        1   \n",
              "1  advice talk neighbours family exchange phone n...         0        0   \n",
              "2  coronavirus australia: woolworths give elderly...         0        0   \n",
              "5  news regionâs first confirmed covid- case cam...         0        0   \n",
              "6  cashier grocery store sharing insights prove c...         0        0   \n",
              "\n",
              "   Positive  \n",
              "0         0  \n",
              "1         1  \n",
              "2         1  \n",
              "5         1  \n",
              "6         1  "
            ],
            "text/html": [
              "<div>\n",
              "<style scoped>\n",
              "    .dataframe tbody tr th:only-of-type {\n",
              "        vertical-align: middle;\n",
              "    }\n",
              "\n",
              "    .dataframe tbody tr th {\n",
              "        vertical-align: top;\n",
              "    }\n",
              "\n",
              "    .dataframe thead th {\n",
              "        text-align: right;\n",
              "    }\n",
              "</style>\n",
              "<table border=\"1\" class=\"dataframe\">\n",
              "  <thead>\n",
              "    <tr style=\"text-align: right;\">\n",
              "      <th></th>\n",
              "      <th>OriginalTweet</th>\n",
              "      <th>Negative</th>\n",
              "      <th>Neutral</th>\n",
              "      <th>Positive</th>\n",
              "    </tr>\n",
              "  </thead>\n",
              "  <tbody>\n",
              "    <tr>\n",
              "      <th>0</th>\n",
              "      <td></td>\n",
              "      <td>0</td>\n",
              "      <td>1</td>\n",
              "      <td>0</td>\n",
              "    </tr>\n",
              "    <tr>\n",
              "      <th>1</th>\n",
              "      <td>advice talk neighbours family exchange phone n...</td>\n",
              "      <td>0</td>\n",
              "      <td>0</td>\n",
              "      <td>1</td>\n",
              "    </tr>\n",
              "    <tr>\n",
              "      <th>2</th>\n",
              "      <td>coronavirus australia: woolworths give elderly...</td>\n",
              "      <td>0</td>\n",
              "      <td>0</td>\n",
              "      <td>1</td>\n",
              "    </tr>\n",
              "    <tr>\n",
              "      <th>5</th>\n",
              "      <td>news regionâs first confirmed covid- case cam...</td>\n",
              "      <td>0</td>\n",
              "      <td>0</td>\n",
              "      <td>1</td>\n",
              "    </tr>\n",
              "    <tr>\n",
              "      <th>6</th>\n",
              "      <td>cashier grocery store sharing insights prove c...</td>\n",
              "      <td>0</td>\n",
              "      <td>0</td>\n",
              "      <td>1</td>\n",
              "    </tr>\n",
              "  </tbody>\n",
              "</table>\n",
              "</div>"
            ]
          },
          "metadata": {},
          "execution_count": 14
        }
      ],
      "metadata": {
        "colab": {
          "base_uri": "https://localhost:8080/"
        },
        "id": "zEaUAZqj22Ye",
        "outputId": "1604144d-6f07-4873-da95-661fa7cb587e"
      }
    },
    {
      "cell_type": "code",
      "execution_count": 15,
      "source": [
        "# Split Data\r\n",
        "tweet = df['OriginalTweet'].values\r\n",
        "sentiment = df[['Negative', 'Neutral', 'Positive']].values\r\n",
        "tweet_train, tweet_test, sentiment_train, sentiment_test = train_test_split(\r\n",
        "    tweet, sentiment, test_size=0.2, random_state=69\r\n",
        ")"
      ],
      "outputs": [],
      "metadata": {
        "id": "oCvUPQLpbU_6"
      }
    },
    {
      "cell_type": "code",
      "execution_count": 16,
      "source": [
        "# Tokenizer Data\r\n",
        "tokenizer = Tokenizer(num_words=36000, oov_token='-')\r\n",
        "tokenizer.fit_on_texts(tweet_train)\r\n",
        "tokenizer.fit_on_texts(tweet_test)\r\n",
        "\r\n",
        "sequens_train = tokenizer.texts_to_sequences(tweet_train)\r\n",
        "sequens_test = tokenizer.texts_to_sequences(tweet_test)\r\n",
        "\r\n",
        "padded_train = pad_sequences(sequens_train, padding='post')\r\n",
        "padded_test = pad_sequences(sequens_test, padding='post')"
      ],
      "outputs": [],
      "metadata": {
        "id": "FVnOh4-5adel"
      }
    },
    {
      "cell_type": "code",
      "execution_count": 17,
      "source": [
        "# Create Model NN\r\n",
        "model = tf.keras.models.Sequential([\r\n",
        "        tf.keras.layers.Embedding(input_dim=36000, output_dim=16),\r\n",
        "        tf.keras.layers.LSTM(128),\r\n",
        "        tf.keras.layers.Dense(32, activation='relu'),\r\n",
        "        tf.keras.layers.Dense(3, activation='softmax')\r\n",
        "])\r\n",
        "\r\n",
        "model.compile(\r\n",
        "    optimizer='adam',\r\n",
        "    loss='categorical_crossentropy',\r\n",
        "    metrics='accuracy'\r\n",
        ")"
      ],
      "outputs": [],
      "metadata": {
        "id": "jFH3rxR2a55Y"
      }
    },
    {
      "cell_type": "code",
      "execution_count": 18,
      "source": [
        "# Create Callback\r\n",
        "class Callback(tf.keras.callbacks.Callback):\r\n",
        "    def on_epoch_end(self, epoch, logs={}):\r\n",
        "        if logs.get('val_accuracy') > 0.9:\r\n",
        "            print(\"\\nValidasi Akurasi telah mencapai > 90%!\")\r\n",
        "            self.model.stop_training = True\r\n",
        "\r\n",
        "callback0 = Callback()\r\n",
        "callback1 = tf.keras.callbacks.EarlyStopping(\r\n",
        "    min_delta=0.001,\r\n",
        "    patience=20,\r\n",
        "    restore_best_weights=True\r\n",
        ")"
      ],
      "outputs": [],
      "metadata": {
        "id": "RKbLq4Eadk8-"
      }
    },
    {
      "cell_type": "code",
      "execution_count": 19,
      "source": [
        "# Train Model\r\n",
        "history = model.fit(\r\n",
        "    padded_train,\r\n",
        "    sentiment_train,\r\n",
        "    validation_data=(padded_test, sentiment_test),\r\n",
        "    epochs=5,\r\n",
        "    callbacks=[callback0, callback1],\r\n",
        ")"
      ],
      "outputs": [
        {
          "output_type": "stream",
          "name": "stdout",
          "text": [
            "Epoch 1/5\n",
            "815/815 [==============================] - ETA: 0s - loss: 0.9786 - accuracy: 0.4789"
          ]
        }
      ],
      "metadata": {
        "colab": {
          "base_uri": "https://localhost:8080/"
        },
        "id": "DD5hNnfxd4Kz",
        "outputId": "f98c0221-6070-4934-d28b-0f84a85d56f0"
      }
    },
    {
      "cell_type": "code",
      "execution_count": null,
      "source": [
        "# Plot Accuracy Model\r\n",
        "plt.figure(figsize=(20, 10))\r\n",
        "plt.plot(history.history['accuracy'])\r\n",
        "plt.plot(history.history['val_accuracy'])\r\n",
        "plt.title('Akurasi Model', fontsize=20)\r\n",
        "plt.xlabel('Epoch', fontsize=20)\r\n",
        "plt.ylabel('Accuracy', fontsize=20)\r\n",
        "plt.legend(['train', 'test'], loc='upper left')\r\n",
        "plt.show()"
      ],
      "outputs": [
        {
          "output_type": "display_data",
          "data": {
            "text/plain": [
              "<Figure size 1440x720 with 1 Axes>"
            ],
            "image/png": "[encoded data removed]"
          },
          "metadata": {
            "tags": [],
            "needs_background": "light"
          }
        }
      ],
      "metadata": {
        "id": "8zAe-WA8hLBa",
        "colab": {
          "base_uri": "https://localhost:8080/",
          "height": 636
        },
        "outputId": "b9b2ae57-e23b-4b49-ede6-77b344c8aeb6"
      }
    },
    {
      "cell_type": "code",
      "execution_count": null,
      "source": [
        "# Plot Loss Model\r\n",
        "plt.figure(figsize=(20, 10))\r\n",
        "plt.plot(history.history['loss'])\r\n",
        "plt.plot(history.history['val_loss'])\r\n",
        "plt.title('Loss Model', fontsize=20)\r\n",
        "plt.ylabel('loss', fontsize=20)\r\n",
        "plt.xlabel('epoch', fontsize=20)\r\n",
        "plt.legend(['train', 'test'], loc='upper left')\r\n",
        "plt.show()"
      ],
      "outputs": [
        {
          "output_type": "display_data",
          "data": {
            "text/plain": [
              "<Figure size 1440x720 with 1 Axes>"
            ],
            "image/png": "[encoded data removed]"
          },
          "metadata": {
            "tags": [],
            "needs_background": "light"
          }
        }
      ],
      "metadata": {
        "id": "-bUkb7SwjdbL",
        "colab": {
          "base_uri": "https://localhost:8080/",
          "height": 636
        },
        "outputId": "679d6b19-1ecd-4dcb-b2ac-b789f7d74507"
      }
    },
    {
      "cell_type": "code",
      "execution_count": null,
      "source": [],
      "outputs": [],
      "metadata": {
        "id": "qnTz8o7hZ5GY"
      }
    }
  ]
}